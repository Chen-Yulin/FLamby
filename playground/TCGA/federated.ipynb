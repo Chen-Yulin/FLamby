{
 "cells": [
  {
   "cell_type": "code",
   "execution_count": 1,
   "id": "08b70b64-4bb2-4880-8020-e467ee06b743",
   "metadata": {},
   "outputs": [],
   "source": [
    "import argparse\n",
    "import os\n",
    "import time\n",
    "\n",
    "import numpy as np\n",
    "import torch\n",
    "from torch.utils.tensorboard import SummaryWriter\n",
    "\n",
    "from flamby.datasets.fed_tcga_brca import (\n",
    "    BATCH_SIZE,\n",
    "    LR,\n",
    "    NUM_EPOCHS_POOLED,\n",
    "    Baseline,\n",
    "    BaselineLoss,\n",
    "    FedTcgaBrca,\n",
    "    NUM_CLIENTS,\n",
    "    metric,\n",
    "    get_nb_max_rounds\n",
    ")\n",
    "from flamby.utils import evaluate_model_on_tests\n",
    "import warnings\n",
    "import warnings\n",
    "warnings.filterwarnings(\"ignore\")\n",
    "from flamby.datasets.fed_tcga_brca import FedTcgaBrca as FedDataset\n",
    "from flamby.strategies.fed_avg_log import FedAvgWithLog as strat\n",
    "from tqdm import tqdm"
   ]
  },
  {
   "cell_type": "code",
   "execution_count": 38,
   "id": "6535f0d0-636b-4697-b156-d4d5de304a34",
   "metadata": {},
   "outputs": [],
   "source": [
    "from flamby.utils import evaluate_model_on_tests"
   ]
  },
  {
   "cell_type": "code",
   "execution_count": 60,
   "id": "0df7843f-7821-454a-9f89-753fd36e26bb",
   "metadata": {},
   "outputs": [],
   "source": [
    "train_dataloaders = [\n",
    "            torch.utils.data.DataLoader(\n",
    "                FedDataset(center = i, train = True, pooled = False),\n",
    "                batch_size = BATCH_SIZE,\n",
    "                shuffle = True,\n",
    "                num_workers = 0\n",
    "            )\n",
    "            for i in range(NUM_CLIENTS-1)\n",
    "        ]\n",
    "\n",
    "lossfunc = BaselineLoss()\n",
    "m = Baseline()"
   ]
  },
  {
   "cell_type": "code",
   "execution_count": 80,
   "id": "ad00c17f-598c-46cf-9a86-ca01eb1d1ae1",
   "metadata": {},
   "outputs": [],
   "source": [
    "# Federated Learning loop\n",
    "# 2nd line of code to change to switch to another strategy (feed the FL strategy the right HPs)\n",
    "args = {\n",
    "            \"training_dataloaders\": train_dataloaders,\n",
    "            \"model\": m,\n",
    "            \"loss\": lossfunc,\n",
    "            \"optimizer_class\": torch.optim.Adam,\n",
    "            \"learning_rate\": LR / 20.0,\n",
    "            \"num_updates\": 50,\n",
    "# This helper function returns the number of rounds necessary to perform approximately as many\n",
    "# epochs on each local dataset as with the pooled training\n",
    "            \"nrounds\": get_nb_max_rounds(50),\n",
    "        }"
   ]
  },
  {
   "cell_type": "code",
   "execution_count": 83,
   "id": "478fbf70-9b19-434f-baac-e499a74e4b67",
   "metadata": {},
   "outputs": [
    {
     "name": "stderr",
     "output_type": "stream",
     "text": [
      "100%|██████████████████████████████████████████████████████████████████████████████████████████████████████████████████████████████████| 30/30 [00:12<00:00,  2.44it/s]\n"
     ]
    }
   ],
   "source": [
    "s = strat(**args)\n",
    "results = []\n",
    "\n",
    "for client_id in range(NUM_CLIENTS-1):\n",
    "    test_dataset = FedTcgaBrca(center=client_id, train=False, pooled=False)\n",
    "    test_dataloader = torch.utils.data.DataLoader(\n",
    "        test_dataset,\n",
    "        batch_size=BATCH_SIZE,\n",
    "        shuffle=True,\n",
    "        num_workers=4,\n",
    "        drop_last=True,\n",
    "    )\n",
    "    results.append((client_id,evaluate_model_on_tests(s.models_list[client_id].model, [test_dataloader], metric, use_tqdm=False)))\n",
    "for rounds in tqdm(range(30)):\n",
    "    s.perform_round()\n",
    "\n",
    "    if (rounds+1) % 5 == 0: \n",
    "    # evaluation for clients\n",
    "        for client_id in range(NUM_CLIENTS-1):\n",
    "            test_dataset = FedTcgaBrca(center=client_id, train=False, pooled=False)\n",
    "            test_dataloader = torch.utils.data.DataLoader(\n",
    "                test_dataset,\n",
    "                batch_size=BATCH_SIZE,\n",
    "                shuffle=True,\n",
    "                num_workers=4,\n",
    "                drop_last=True,\n",
    "            )\n",
    "            \n",
    "            results.append((client_id,evaluate_model_on_tests(s.models_list[client_id].model, [test_dataloader], metric, use_tqdm=False)))"
   ]
  },
  {
   "cell_type": "code",
   "execution_count": 84,
   "id": "84a2779a-3673-4559-8388-a4263b954a69",
   "metadata": {},
   "outputs": [
    {
     "data": {
      "text/plain": [
       "[(0, {'client_test_0': 0.4166666666666667}),\n",
       " (1, {'client_test_0': 0.09090909090909091}),\n",
       " (2, {'client_test_0': 0.23404255319148937}),\n",
       " (3, {'client_test_0': 0.6666666666666666}),\n",
       " (4, {'client_test_0': 0.022222222222222223}),\n",
       " (0, {'client_test_0': 0.7583892617449665}),\n",
       " (1, {'client_test_0': 0.7272727272727273}),\n",
       " (2, {'client_test_0': 0.7083333333333334}),\n",
       " (3, {'client_test_0': 0.5625}),\n",
       " (4, {'client_test_0': 0.9333333333333333}),\n",
       " (0, {'client_test_0': 0.8606271777003485}),\n",
       " (1, {'client_test_0': 0.7045454545454546}),\n",
       " (2, {'client_test_0': 0.8431372549019608}),\n",
       " (3, {'client_test_0': 0.625}),\n",
       " (4, {'client_test_0': 0.9333333333333333}),\n",
       " (0, {'client_test_0': 0.865814696485623}),\n",
       " (1, {'client_test_0': 0.6590909090909091}),\n",
       " (2, {'client_test_0': 0.8602150537634409}),\n",
       " (3, {'client_test_0': 0.6666666666666666}),\n",
       " (4, {'client_test_0': 0.9111111111111111}),\n",
       " (0, {'client_test_0': 0.8571428571428571}),\n",
       " (1, {'client_test_0': 0.7045454545454546}),\n",
       " (2, {'client_test_0': 0.8679245283018868}),\n",
       " (3, {'client_test_0': 0.625}),\n",
       " (4, {'client_test_0': 0.9111111111111111}),\n",
       " (0, {'client_test_0': 0.8823529411764706}),\n",
       " (1, {'client_test_0': 0.6590909090909091}),\n",
       " (2, {'client_test_0': 0.8584905660377359}),\n",
       " (3, {'client_test_0': 0.5416666666666666}),\n",
       " (4, {'client_test_0': 0.8723404255319149}),\n",
       " (0, {'client_test_0': 0.8595890410958904}),\n",
       " (1, {'client_test_0': 0.75}),\n",
       " (2, {'client_test_0': 0.8913043478260869}),\n",
       " (3, {'client_test_0': 0.6739130434782609}),\n",
       " (4, {'client_test_0': 0.9555555555555556})]"
      ]
     },
     "execution_count": 84,
     "metadata": {},
     "output_type": "execute_result"
    }
   ],
   "source": [
    "results"
   ]
  },
  {
   "cell_type": "code",
   "execution_count": null,
   "id": "a1a54442-25cb-4ab5-9ece-515bb0bb30c8",
   "metadata": {},
   "outputs": [],
   "source": []
  }
 ],
 "metadata": {
  "kernelspec": {
   "display_name": "Python 3 (ipykernel)",
   "language": "python",
   "name": "python3"
  },
  "language_info": {
   "codemirror_mode": {
    "name": "ipython",
    "version": 3
   },
   "file_extension": ".py",
   "mimetype": "text/x-python",
   "name": "python",
   "nbconvert_exporter": "python",
   "pygments_lexer": "ipython3",
   "version": "3.10.15"
  }
 },
 "nbformat": 4,
 "nbformat_minor": 5
}
