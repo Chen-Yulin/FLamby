{
 "cells": [
  {
   "cell_type": "code",
   "execution_count": 2,
   "id": "08b70b64-4bb2-4880-8020-e467ee06b743",
   "metadata": {},
   "outputs": [],
   "source": [
    "import argparse\n",
    "import os\n",
    "import time\n",
    "\n",
    "import numpy as np\n",
    "import torch\n",
    "from torch.utils.tensorboard import SummaryWriter\n",
    "\n",
    "from flamby.datasets.fed_tcga_brca import (\n",
    "    BATCH_SIZE,\n",
    "    LR,\n",
    "    NUM_EPOCHS_POOLED,\n",
    "    Baseline,\n",
    "    BaselineLoss,\n",
    "    FedTcgaBrca,\n",
    "    NUM_CLIENTS,\n",
    "    metric,\n",
    "    get_nb_max_rounds\n",
    ")\n",
    "from flamby.utils import evaluate_model_on_tests\n",
    "import warnings\n",
    "import warnings\n",
    "warnings.filterwarnings(\"ignore\")\n",
    "from flamby.datasets.fed_tcga_brca import FedTcgaBrca as FedDataset\n",
    "from flamby.strategies.fed_avg_log import FedAvgWithLog as strat\n",
    "from tqdm import tqdm"
   ]
  },
  {
   "cell_type": "code",
   "execution_count": 8,
   "id": "6535f0d0-636b-4697-b156-d4d5de304a34",
   "metadata": {},
   "outputs": [],
   "source": [
    "from flamby.utils import evaluate_model_on_tests"
   ]
  },
  {
   "cell_type": "code",
   "execution_count": 3,
   "id": "0df7843f-7821-454a-9f89-753fd36e26bb",
   "metadata": {},
   "outputs": [],
   "source": [
    "train_dataloaders = [\n",
    "            torch.utils.data.DataLoader(\n",
    "                FedDataset(center = i, train = True, pooled = False),\n",
    "                batch_size = BATCH_SIZE,\n",
    "                shuffle = True,\n",
    "                num_workers = 0\n",
    "            )\n",
    "            for i in range(NUM_CLIENTS)\n",
    "        ]\n",
    "\n",
    "lossfunc = BaselineLoss()\n",
    "m = Baseline()"
   ]
  },
  {
   "cell_type": "code",
   "execution_count": 15,
   "id": "ad00c17f-598c-46cf-9a86-ca01eb1d1ae1",
   "metadata": {},
   "outputs": [],
   "source": [
    "# Federated Learning loop\n",
    "# 2nd line of code to change to switch to another strategy (feed the FL strategy the right HPs)\n",
    "args = {\n",
    "            \"training_dataloaders\": train_dataloaders,\n",
    "            \"model\": m,\n",
    "            \"loss\": lossfunc,\n",
    "            \"optimizer_class\": torch.optim.SGD,\n",
    "            \"learning_rate\": LR / 10.0,\n",
    "            \"num_updates\": 100,\n",
    "# This helper function returns the number of rounds necessary to perform approximately as many\n",
    "# epochs on each local dataset as with the pooled training\n",
    "            \"nrounds\": get_nb_max_rounds(100),\n",
    "        }\n",
    "s = strat(**args)"
   ]
  },
  {
   "cell_type": "code",
   "execution_count": 16,
   "id": "478fbf70-9b19-434f-baac-e499a74e4b67",
   "metadata": {},
   "outputs": [
    {
     "name": "stderr",
     "output_type": "stream",
     "text": [
      "  0%|                                                                 | 0/10 [00:00<?, ?it/s]\n",
      "  0%|                                                                  | 0/1 [00:00<?, ?it/s]\u001b[A\n",
      "100%|██████████████████████████████████████████████████████████| 1/1 [00:00<00:00,  7.00it/s]\u001b[A\n",
      " 10%|█████▋                                                   | 1/10 [00:03<00:28,  3.14s/it]\n",
      "  0%|                                                                  | 0/1 [00:00<?, ?it/s]\u001b[A\n",
      "100%|██████████████████████████████████████████████████████████| 1/1 [00:00<00:00,  8.10it/s]\u001b[A\n",
      " 20%|███████████▍                                             | 2/10 [00:06<00:24,  3.08s/it]\n",
      "  0%|                                                                  | 0/1 [00:00<?, ?it/s]\u001b[A\n",
      "100%|██████████████████████████████████████████████████████████| 1/1 [00:00<00:00,  7.42it/s]\u001b[A\n",
      " 30%|█████████████████                                        | 3/10 [00:09<00:21,  3.09s/it]\n",
      "  0%|                                                                  | 0/1 [00:00<?, ?it/s]\u001b[A\n",
      "100%|██████████████████████████████████████████████████████████| 1/1 [00:00<00:00,  7.53it/s]\u001b[A\n",
      " 40%|██████████████████████▊                                  | 4/10 [00:12<00:18,  3.13s/it]\n",
      "  0%|                                                                  | 0/1 [00:00<?, ?it/s]\u001b[A\n",
      "100%|██████████████████████████████████████████████████████████| 1/1 [00:00<00:00,  8.05it/s]\u001b[A\n",
      " 50%|████████████████████████████▌                            | 5/10 [00:15<00:15,  3.13s/it]\n",
      "  0%|                                                                  | 0/1 [00:00<?, ?it/s]\u001b[A\n",
      "100%|██████████████████████████████████████████████████████████| 1/1 [00:00<00:00,  8.18it/s]\u001b[A\n",
      " 60%|██████████████████████████████████▏                      | 6/10 [00:18<00:12,  3.14s/it]\n",
      "  0%|                                                                  | 0/1 [00:00<?, ?it/s]\u001b[A\n",
      "100%|██████████████████████████████████████████████████████████| 1/1 [00:00<00:00,  8.07it/s]\u001b[A\n",
      " 70%|███████████████████████████████████████▉                 | 7/10 [00:21<00:09,  3.13s/it]\n",
      "  0%|                                                                  | 0/1 [00:00<?, ?it/s]\u001b[A\n",
      "100%|██████████████████████████████████████████████████████████| 1/1 [00:00<00:00,  6.96it/s]\u001b[A\n",
      " 80%|█████████████████████████████████████████████▌           | 8/10 [00:25<00:06,  3.18s/it]\n",
      "  0%|                                                                  | 0/1 [00:00<?, ?it/s]\u001b[A\n",
      "100%|██████████████████████████████████████████████████████████| 1/1 [00:00<00:00,  8.23it/s]\u001b[A\n",
      " 90%|███████████████████████████████████████████████████▎     | 9/10 [00:28<00:03,  3.13s/it]\n",
      "  0%|                                                                  | 0/1 [00:00<?, ?it/s]\u001b[A\n",
      "100%|██████████████████████████████████████████████████████████| 1/1 [00:00<00:00,  8.25it/s]\u001b[A\n",
      "100%|████████████████████████████████████████████████████████| 10/10 [00:31<00:00,  3.13s/it]\n"
     ]
    }
   ],
   "source": [
    "results = []\n",
    "for rounds in tqdm(range(10)):\n",
    "    s.perform_round()\n",
    "    test_dataset = FedTcgaBrca(train=False, pooled=True)\n",
    "    test_dataloader = torch.utils.data.DataLoader(\n",
    "        test_dataset,\n",
    "        batch_size=BATCH_SIZE,\n",
    "        shuffle=False,\n",
    "        num_workers=4,\n",
    "        # drop_last=True,\n",
    "    )\n",
    "    results.append(evaluate_model_on_tests(s.models_list[0].model, [test_dataloader], metric))"
   ]
  },
  {
   "cell_type": "code",
   "execution_count": 12,
   "id": "102235bc-8750-4478-924b-9fa803451f88",
   "metadata": {},
   "outputs": [
    {
     "name": "stderr",
     "output_type": "stream",
     "text": [
      "100%|██████████████████████████████████████████████████████████| 1/1 [00:00<00:00, 13.44it/s]"
     ]
    },
    {
     "name": "stdout",
     "output_type": "stream",
     "text": [
      "{'client_test_0': np.float64(0.7025641025641025)}\n"
     ]
    },
    {
     "name": "stderr",
     "output_type": "stream",
     "text": [
      "\n"
     ]
    }
   ],
   "source": [
    "test_dataloaders = [\n",
    "            torch.utils.data.DataLoader(\n",
    "                FedDataset(train = False, pooled = True),\n",
    "                batch_size = BATCH_SIZE,\n",
    "                shuffle = False,\n",
    "                num_workers = 0,\n",
    "            )\n",
    "        ]\n",
    "dict_cindex = evaluate_model_on_tests(m, test_dataloaders, metric)\n",
    "print(dict_cindex)"
   ]
  },
  {
   "cell_type": "code",
   "execution_count": 17,
   "id": "84a2779a-3673-4559-8388-a4263b954a69",
   "metadata": {},
   "outputs": [
    {
     "data": {
      "text/plain": [
       "[{'client_test_0': np.float64(0.6915750915750916)},\n",
       " {'client_test_0': np.float64(0.7102564102564103)},\n",
       " {'client_test_0': np.float64(0.7161172161172161)},\n",
       " {'client_test_0': np.float64(0.7256410256410256)},\n",
       " {'client_test_0': np.float64(0.7333333333333333)},\n",
       " {'client_test_0': np.float64(0.7454212454212454)},\n",
       " {'client_test_0': np.float64(0.7446886446886447)},\n",
       " {'client_test_0': np.float64(0.7538461538461538)},\n",
       " {'client_test_0': np.float64(0.773992673992674)},\n",
       " {'client_test_0': np.float64(0.7732600732600733)}]"
      ]
     },
     "execution_count": 17,
     "metadata": {},
     "output_type": "execute_result"
    }
   ],
   "source": [
    "results"
   ]
  },
  {
   "cell_type": "code",
   "execution_count": 18,
   "id": "0891a674-476f-429c-97f7-efcd19b8ddcb",
   "metadata": {},
   "outputs": [
    {
     "data": {
      "text/plain": [
       "[<torch.utils.data.dataloader.DataLoader at 0x750eaf5d14e0>,\n",
       " <torch.utils.data.dataloader.DataLoader at 0x750eaf4d5f60>,\n",
       " <torch.utils.data.dataloader.DataLoader at 0x750eaf514880>,\n",
       " <torch.utils.data.dataloader.DataLoader at 0x750eaf4e8130>,\n",
       " <torch.utils.data.dataloader.DataLoader at 0x750eaf3b4790>,\n",
       " <torch.utils.data.dataloader.DataLoader at 0x750eaf3ca8c0>]"
      ]
     },
     "execution_count": 18,
     "metadata": {},
     "output_type": "execute_result"
    }
   ],
   "source": [
    "train_dataloaders"
   ]
  },
  {
   "cell_type": "code",
   "execution_count": null,
   "id": "99f0773c-48b6-499e-aac5-f51e79d62a53",
   "metadata": {},
   "outputs": [],
   "source": []
  }
 ],
 "metadata": {
  "kernelspec": {
   "display_name": "Python 3 (ipykernel)",
   "language": "python",
   "name": "python3"
  },
  "language_info": {
   "codemirror_mode": {
    "name": "ipython",
    "version": 3
   },
   "file_extension": ".py",
   "mimetype": "text/x-python",
   "name": "python",
   "nbconvert_exporter": "python",
   "pygments_lexer": "ipython3",
   "version": "3.10.15"
  }
 },
 "nbformat": 4,
 "nbformat_minor": 5
}
