{
 "cells": [
  {
   "cell_type": "code",
   "execution_count": 3,
   "id": "2b296132-247b-492d-931c-63be43b44c8e",
   "metadata": {},
   "outputs": [],
   "source": [
    "from flamby.datasets.fed_tcga_brca import TcgaBrcaRaw, FedTcgaBrca\n",
    "\n",
    "# Raw dataset\n",
    "mydataset_raw = TcgaBrcaRaw()\n",
    "\n",
    "# Pooled test dataset\n",
    "mydataset_pooled = FedTcgaBrca(train=False, pooled=True)\n",
    "\n",
    "# Center 2 train dataset\n",
    "mydataset_local2= FedTcgaBrca(center=2, train=True, pooled=False)\n"
   ]
  },
  {
   "cell_type": "code",
   "execution_count": 4,
   "id": "743e242c-8876-439c-bb05-f8e874bc8cd5",
   "metadata": {},
   "outputs": [],
   "source": [
    "from flamby.datasets.fed_heart_disease import HeartDiseaseRaw, FedHeartDisease\n",
    "# Raw dataset\n",
    "mydataset_raw = HeartDiseaseRaw()\n",
    "# Pooled train dataset\n",
    "mydataset_pooled = FedHeartDisease(train=True, pooled=True)\n",
    "# Center 1 train dataset\n",
    "mydataset_local1= FedHeartDisease(center=1, train=True, pooled=False)"
   ]
  },
  {
   "cell_type": "code",
   "execution_count": 5,
   "id": "a6da394c-7e79-48bc-834c-2c5ef73d53bf",
   "metadata": {},
   "outputs": [
    {
     "name": "stderr",
     "output_type": "stream",
     "text": [
      "/home/cyl/FLamby/flamby/datasets/fed_tcga_brca/dataset.py:51: FutureWarning: Series.__getitem__ treating keys as positions is deprecated. In a future version, integer keys will always be treated as labels (consistent with DataFrame behavior). To access a value by position, use `ser.iloc[pos]`\n",
      "  return (torch.tensor(x, dtype=self.X_dtype), torch.tensor(y, dtype=self.y_dtype))\n",
      "  0%|                                                      | 0/6 [00:00<?, ?it/s]/home/cyl/FLamby/flamby/datasets/fed_tcga_brca/dataset.py:51: FutureWarning: Series.__getitem__ treating keys as positions is deprecated. In a future version, integer keys will always be treated as labels (consistent with DataFrame behavior). To access a value by position, use `ser.iloc[pos]`\n",
      "  return (torch.tensor(x, dtype=self.X_dtype), torch.tensor(y, dtype=self.y_dtype))\n",
      "100%|██████████████████████████████████████████████| 6/6 [00:00<00:00, 93.36it/s]"
     ]
    },
    {
     "name": "stdout",
     "output_type": "stream",
     "text": [
      "{'client_test_0': 0.6536312849162011, 'client_test_1': 0.6136363636363636, 'client_test_2': 0.7777777777777778, 'client_test_3': 0.5625, 'client_test_4': 0.8723404255319149, 'client_test_5': 1.0}\n"
     ]
    },
    {
     "name": "stderr",
     "output_type": "stream",
     "text": [
      "\n"
     ]
    }
   ],
   "source": [
    "\n",
    "import torch\n",
    "from flamby.utils import evaluate_model_on_tests\n",
    "\n",
    "# 2 lines of code to change to switch to another dataset\n",
    "from flamby.datasets.fed_tcga_brca import (\n",
    "    BATCH_SIZE,\n",
    "    LR,\n",
    "    NUM_EPOCHS_POOLED,\n",
    "    Baseline,\n",
    "    BaselineLoss,\n",
    "    metric,\n",
    "    NUM_CLIENTS,\n",
    "    Optimizer,\n",
    ")\n",
    "from flamby.datasets.fed_tcga_brca import FedTcgaBrca as FedDataset\n",
    "\n",
    "# Instantiation of local train set (and data loader)), baseline loss function, baseline model, default optimizer\n",
    "train_dataset = FedDataset(center=0, train=True, pooled=False)\n",
    "train_dataloader = torch.utils.data.DataLoader(train_dataset, batch_size=BATCH_SIZE, shuffle=True, num_workers=0)\n",
    "lossfunc = BaselineLoss()\n",
    "model = Baseline()\n",
    "optimizer = Optimizer(model.parameters(), lr=LR)\n",
    "\n",
    "# Traditional pytorch training loop\n",
    "for epoch in range(0, NUM_EPOCHS_POOLED):\n",
    "    for idx, (X, y) in enumerate(train_dataloader):\n",
    "        optimizer.zero_grad()\n",
    "        outputs = model(X)\n",
    "        loss = lossfunc(outputs, y)\n",
    "        loss.backward()\n",
    "        optimizer.step()\n",
    "\n",
    "# Evaluation\n",
    "# Instantiation of a list of the local test sets\n",
    "test_dataloaders = [\n",
    "            torch.utils.data.DataLoader(\n",
    "                FedDataset(center=i, train=False, pooled=False),\n",
    "                batch_size=BATCH_SIZE,\n",
    "                shuffle=False,\n",
    "                num_workers=0,\n",
    "            )\n",
    "            for i in range(NUM_CLIENTS)\n",
    "        ]\n",
    "# Function performing the evaluation\n",
    "dict_cindex = evaluate_model_on_tests(model, test_dataloaders, metric)\n",
    "print(dict_cindex)\n"
   ]
  },
  {
   "cell_type": "code",
   "execution_count": 6,
   "id": "07f05847-d2c1-4a7c-8839-6e3960c6685d",
   "metadata": {},
   "outputs": [
    {
     "name": "stderr",
     "output_type": "stream",
     "text": [
      "  0%|                                                      | 0/5 [00:00<?, ?it/s]/home/cyl/FLamby/flamby/datasets/fed_tcga_brca/dataset.py:51: FutureWarning: Series.__getitem__ treating keys as positions is deprecated. In a future version, integer keys will always be treated as labels (consistent with DataFrame behavior). To access a value by position, use `ser.iloc[pos]`\n",
      "  return (torch.tensor(x, dtype=self.X_dtype), torch.tensor(y, dtype=self.y_dtype))\n",
      "100%|██████████████████████████████████████████████| 5/5 [00:09<00:00,  1.81s/it]\n",
      "  0%|                                                      | 0/1 [00:00<?, ?it/s]/home/cyl/FLamby/flamby/datasets/fed_tcga_brca/dataset.py:51: FutureWarning: Series.__getitem__ treating keys as positions is deprecated. In a future version, integer keys will always be treated as labels (consistent with DataFrame behavior). To access a value by position, use `ser.iloc[pos]`\n",
      "  return (torch.tensor(x, dtype=self.X_dtype), torch.tensor(y, dtype=self.y_dtype))\n",
      "100%|██████████████████████████████████████████████| 1/1 [00:00<00:00, 18.45it/s]"
     ]
    },
    {
     "name": "stdout",
     "output_type": "stream",
     "text": [
      "{'client_test_0': 0.7241758241758242}\n"
     ]
    },
    {
     "name": "stderr",
     "output_type": "stream",
     "text": [
      "\n"
     ]
    }
   ],
   "source": [
    "\n",
    "import torch\n",
    "from flamby.utils import evaluate_model_on_tests\n",
    "\n",
    "# 2 lines of code to change to switch to another dataset\n",
    "from flamby.datasets.fed_tcga_brca import (\n",
    "    BATCH_SIZE,\n",
    "    LR,\n",
    "    NUM_EPOCHS_POOLED,\n",
    "    Baseline,\n",
    "    BaselineLoss,\n",
    "    metric,\n",
    "    NUM_CLIENTS,\n",
    "    get_nb_max_rounds\n",
    ")\n",
    "from flamby.datasets.fed_tcga_brca import FedTcgaBrca as FedDataset\n",
    "\n",
    "# 1st line of code to change to switch to another strategy\n",
    "from flamby.strategies.fed_avg import FedAvg as strat\n",
    "\n",
    "# We loop on all the clients of the distributed dataset and instantiate associated data loaders\n",
    "train_dataloaders = [\n",
    "            torch.utils.data.DataLoader(\n",
    "                FedDataset(center = i, train = True, pooled = False),\n",
    "                batch_size = BATCH_SIZE,\n",
    "                shuffle = True,\n",
    "                num_workers = 0\n",
    "            )\n",
    "            for i in range(NUM_CLIENTS)\n",
    "        ]\n",
    "\n",
    "lossfunc = BaselineLoss()\n",
    "m = Baseline()\n",
    "\n",
    "# Federated Learning loop\n",
    "# 2nd line of code to change to switch to another strategy (feed the FL strategy the right HPs)\n",
    "args = {\n",
    "            \"training_dataloaders\": train_dataloaders,\n",
    "            \"model\": m,\n",
    "            \"loss\": lossfunc,\n",
    "            \"optimizer_class\": torch.optim.SGD,\n",
    "            \"learning_rate\": LR / 10.0,\n",
    "            \"num_updates\": 100,\n",
    "# This helper function returns the number of rounds necessary to perform approximately as many\n",
    "# epochs on each local dataset as with the pooled training\n",
    "            \"nrounds\": get_nb_max_rounds(100),\n",
    "        }\n",
    "s = strat(**args)\n",
    "m = s.run()[0]\n",
    "\n",
    "# Evaluation\n",
    "# We only instantiate one test set in this particular case: the pooled one\n",
    "test_dataloaders = [\n",
    "            torch.utils.data.DataLoader(\n",
    "                FedDataset(train = False, pooled = True),\n",
    "                batch_size = BATCH_SIZE,\n",
    "                shuffle = False,\n",
    "                num_workers = 0,\n",
    "            )\n",
    "        ]\n",
    "dict_cindex = evaluate_model_on_tests(m, test_dataloaders, metric)\n",
    "print(dict_cindex)\n"
   ]
  },
  {
   "cell_type": "code",
   "execution_count": null,
   "id": "d0a2b4ad-7e82-4e01-ba52-b5921f5599da",
   "metadata": {},
   "outputs": [],
   "source": []
  }
 ],
 "metadata": {
  "kernelspec": {
   "display_name": "Python 3 (ipykernel)",
   "language": "python",
   "name": "python3"
  },
  "language_info": {
   "codemirror_mode": {
    "name": "ipython",
    "version": 3
   },
   "file_extension": ".py",
   "mimetype": "text/x-python",
   "name": "python",
   "nbconvert_exporter": "python",
   "pygments_lexer": "ipython3",
   "version": "3.10.15"
  }
 },
 "nbformat": 4,
 "nbformat_minor": 5
}
